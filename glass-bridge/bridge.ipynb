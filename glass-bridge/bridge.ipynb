{
 "cells": [
  {
   "cell_type": "code",
   "execution_count": 2,
   "id": "8bd9f80f",
   "metadata": {},
   "outputs": [],
   "source": [
    "import matplotlib.pyplot as plt\n",
    "import random"
   ]
  },
  {
   "cell_type": "code",
   "execution_count": 3,
   "id": "b900de8e",
   "metadata": {},
   "outputs": [],
   "source": [
    "def game(level, printBridge):\n",
    "    res = []\n",
    "    player = 1\n",
    "    for i in range(level):\n",
    "        isBroke = random.randrange(2)\n",
    "        if isBroke:\n",
    "            res.append(True)\n",
    "            player += 1\n",
    "        else:\n",
    "            res.append(False)\n",
    "    \n",
    "    if printBridge:\n",
    "        for isBroke in res:\n",
    "            if isBroke:\n",
    "                print(\"X\", end=\" \")\n",
    "            else:\n",
    "                print(\"O\", end=\" \")\n",
    "    \n",
    "    return player"
   ]
  },
  {
   "cell_type": "code",
   "execution_count": 4,
   "id": "7230d955",
   "metadata": {},
   "outputs": [
    {
     "name": "stdout",
     "output_type": "stream",
     "text": [
      "O O X O X X X O X X O O O X O O X X "
     ]
    },
    {
     "data": {
      "text/plain": [
       "10"
      ]
     },
     "execution_count": 4,
     "metadata": {},
     "output_type": "execute_result"
    }
   ],
   "source": [
    "game(18, True)"
   ]
  },
  {
   "cell_type": "code",
   "execution_count": 5,
   "id": "9551f69c",
   "metadata": {},
   "outputs": [
    {
     "name": "stdout",
     "output_type": "stream",
     "text": [
      "[3, 83, 602, 3093, 11652, 32902, 70923, 121463, 167146, 185892, 166610, 121089, 70433, 32568, 11785, 3109, 570, 73, 4]\n"
     ]
    }
   ],
   "source": [
    "res = []\n",
    "for i in range(19):\n",
    "    res.append(0)\n",
    "for i in range(1000000):\n",
    "    player = game(18, False)\n",
    "    res[player - 1] += 1\n",
    "\n",
    "print(res)"
   ]
  },
  {
   "cell_type": "code",
   "execution_count": 6,
   "id": "524c4d28",
   "metadata": {},
   "outputs": [
    {
     "data": {
      "text/plain": [
       "[<matplotlib.lines.Line2D at 0x1d08ba98610>]"
      ]
     },
     "execution_count": 6,
     "metadata": {},
     "output_type": "execute_result"
    },
    {
     "data": {
      "image/png": "[encoded data removed]",
      "text/plain": [
       "<Figure size 432x288 with 1 Axes>"
      ]
     },
     "metadata": {
      "needs_background": "light"
     },
     "output_type": "display_data"
    }
   ],
   "source": [
    "prob = []\n",
    "for i in range(19):\n",
    "    prob.append(res[i] / 1000000)\n",
    "plt.plot(range(1, 20), prob, \"o\")"
   ]
  },
  {
   "cell_type": "code",
   "execution_count": 7,
   "id": "a3ae1e39",
   "metadata": {},
   "outputs": [
    {
     "data": {
      "text/plain": [
       "[<matplotlib.lines.Line2D at 0x1d08bb86100>]"
      ]
     },
     "execution_count": 7,
     "metadata": {},
     "output_type": "execute_result"
    },
    {
     "data": {
      "image/png": "[encoded data removed]",
      "text/plain": [
       "<Figure size 432x288 with 1 Axes>"
      ]
     },
     "metadata": {
      "needs_background": "light"
     },
     "output_type": "display_data"
    }
   ],
   "source": [
    "resAccum = []\n",
    "resAccum.append(res[0])\n",
    "for i in range(18):\n",
    "    resAccum.append(resAccum[i] + res[i+1])\n",
    "\n",
    "accumProb = []\n",
    "for i in range(19):\n",
    "    accumProb.append(resAccum[i] / 1000000)\n",
    "plt.plot(range(1, 20), accumProb, \"o\")"
   ]
  },
  {
   "cell_type": "code",
   "execution_count": 10,
   "id": "219d4016",
   "metadata": {},
   "outputs": [
    {
     "name": "stdout",
     "output_type": "stream",
     "text": [
      "1번 참가자: 0.0003%\n",
      "2번 참가자: 0.0086%\n",
      "3번 참가자: 0.0688%\n",
      "4번 참가자: 0.3781%\n",
      "5번 참가자: 1.5433%\n",
      "6번 참가자: 4.8335%\n",
      "7번 참가자: 11.9258%\n",
      "8번 참가자: 24.0721%\n",
      "9번 참가자: 40.7867%\n",
      "10번 참가자: 59.3759%\n",
      "11번 참가자: 76.0369%\n",
      "12번 참가자: 88.1458%\n",
      "13번 참가자: 95.1891%\n",
      "14번 참가자: 98.4459%\n",
      "15번 참가자: 99.6244%\n",
      "16번 참가자: 99.9353%\n",
      "17번 참가자: 99.9923%\n",
      "18번 참가자: 99.9996%\n",
      "19번 참가자: 100.0%\n"
     ]
    }
   ],
   "source": [
    "for i in range(19):\n",
    "    print(str(i+1) + \"번 참가자: \" + str(round(accumProb[i] * 100, 4)) + \"%\")"
   ]
  }
 ],
 "metadata": {
  "kernelspec": {
   "display_name": "Python 3 (ipykernel)",
   "language": "python",
   "name": "python3"
  },
  "language_info": {
   "codemirror_mode": {
    "name": "ipython",
    "version": 3
   },
   "file_extension": ".py",
   "mimetype": "text/x-python",
   "name": "python",
   "nbconvert_exporter": "python",
   "pygments_lexer": "ipython3",
   "version": "3.9.1"
  }
 },
 "nbformat": 4,
 "nbformat_minor": 5
}
